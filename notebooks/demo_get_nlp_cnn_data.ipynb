{
 "cells": [
  {
   "cell_type": "code",
   "execution_count": 27,
   "id": "0ccde1e5",
   "metadata": {},
   "outputs": [],
   "source": [
    "import matplotlib.pyplot as plt\n",
    "import numpy as np\n",
    "import pandas as pd\n",
    "import os\n",
    "import seaborn as sns"
   ]
  },
  {
   "cell_type": "code",
   "execution_count": 29,
   "id": "0ac8c254",
   "metadata": {},
   "outputs": [],
   "source": [
    "target = 'asset_index'\n",
    "labels_df = pd.read_csv('../data/dhs_final_labels.csv')\n",
    "sentences_df = []\n",
    "\n",
    "relevant_sentences_dir = '../data/relevant_sentences'\n",
    "for country in os.listdir(relevant_sentences_dir):\n",
    "    sentences_for_country_df = pd.read_csv(os.path.join(relevant_sentences_dir, country, target, 'relevant_sentences.csv'))\n",
    "    sentences_for_country_df = sentences_for_country_df.merge(labels_df, on='DHSID_EA')[['DHSID_EA', 'relevance_score', 'most_relevant_sentences', target]]\n",
    "    sentences_for_country_df = sentences_for_country_df.sort_values(by=['DHSID_EA', 'relevance_score'])\n",
    "    sentences_for_country_df = sentences_for_country_df.groupby('DHSID_EA')['most_relevant_sentences'].apply(list).reset_index(name='most_relevant_sentences_per_loc')\n",
    "    sentences_for_country_df['most_relevant_sentences'] = sentences_for_country_df['most_relevant_sentences_per_loc'].apply(lambda x: ' '.join(x))\n",
    "    # the length of most_relevant_sentences in words\n",
    "    sentences_for_country_df['len_most_relevant_sentences'] = sentences_for_country_df['most_relevant_sentences'].apply(lambda x: len(x.split(' ')))\n",
    "    sentences_for_country_df['country_name'] = country\n",
    "    sentences_for_country_df = sentences_for_country_df[['DHSID_EA', 'country_name', 'most_relevant_sentences', 'len_most_relevant_sentences']]\n",
    "    sentences_df.append(sentences_for_country_df)\n",
    "    \n",
    "sentences_df = pd.concat(sentences_df, axis=0)"
   ]
  },
  {
   "cell_type": "code",
   "execution_count": 30,
   "id": "73a1dd8d",
   "metadata": {},
   "outputs": [
    {
     "data": {
      "text/html": [
       "<div>\n",
       "<style scoped>\n",
       "    .dataframe tbody tr th:only-of-type {\n",
       "        vertical-align: middle;\n",
       "    }\n",
       "\n",
       "    .dataframe tbody tr th {\n",
       "        vertical-align: top;\n",
       "    }\n",
       "\n",
       "    .dataframe thead th {\n",
       "        text-align: right;\n",
       "    }\n",
       "</style>\n",
       "<table border=\"1\" class=\"dataframe\">\n",
       "  <thead>\n",
       "    <tr style=\"text-align: right;\">\n",
       "      <th></th>\n",
       "      <th>DHSID_EA</th>\n",
       "      <th>country_name</th>\n",
       "      <th>most_relevant_sentences</th>\n",
       "      <th>len_most_relevant_sentences</th>\n",
       "    </tr>\n",
       "  </thead>\n",
       "  <tbody>\n",
       "    <tr>\n",
       "      <th>0</th>\n",
       "      <td>SL-2008-5#-00000243</td>\n",
       "      <td>SL</td>\n",
       "      <td>Climate: tropical; hot, humid; summer rainy se...</td>\n",
       "      <td>1089</td>\n",
       "    </tr>\n",
       "    <tr>\n",
       "      <th>1</th>\n",
       "      <td>SL-2008-5#-00000262</td>\n",
       "      <td>SL</td>\n",
       "      <td>Most of the pregnant ebola patients were sent ...</td>\n",
       "      <td>324</td>\n",
       "    </tr>\n",
       "    <tr>\n",
       "      <th>2</th>\n",
       "      <td>SL-2008-5#-00000318</td>\n",
       "      <td>SL</td>\n",
       "      <td>Healthcare workers had gone on strike over the...</td>\n",
       "      <td>131</td>\n",
       "    </tr>\n",
       "    <tr>\n",
       "      <th>3</th>\n",
       "      <td>SL-2013-6#-00000298</td>\n",
       "      <td>SL</td>\n",
       "      <td>The developments were intended to improve Sier...</td>\n",
       "      <td>416</td>\n",
       "    </tr>\n",
       "    <tr>\n",
       "      <th>4</th>\n",
       "      <td>SL-2013-6#-00000303</td>\n",
       "      <td>SL</td>\n",
       "      <td>By 1850 the only contribution required of the ...</td>\n",
       "      <td>590</td>\n",
       "    </tr>\n",
       "  </tbody>\n",
       "</table>\n",
       "</div>"
      ],
      "text/plain": [
       "              DHSID_EA country_name  \\\n",
       "0  SL-2008-5#-00000243           SL   \n",
       "1  SL-2008-5#-00000262           SL   \n",
       "2  SL-2008-5#-00000318           SL   \n",
       "3  SL-2013-6#-00000298           SL   \n",
       "4  SL-2013-6#-00000303           SL   \n",
       "\n",
       "                             most_relevant_sentences  \\\n",
       "0  Climate: tropical; hot, humid; summer rainy se...   \n",
       "1  Most of the pregnant ebola patients were sent ...   \n",
       "2  Healthcare workers had gone on strike over the...   \n",
       "3  The developments were intended to improve Sier...   \n",
       "4  By 1850 the only contribution required of the ...   \n",
       "\n",
       "   len_most_relevant_sentences  \n",
       "0                         1089  \n",
       "1                          324  \n",
       "2                          131  \n",
       "3                          416  \n",
       "4                          590  "
      ]
     },
     "execution_count": 30,
     "metadata": {},
     "output_type": "execute_result"
    }
   ],
   "source": [
    "sentences_df.head()"
   ]
  },
  {
   "cell_type": "code",
   "execution_count": 31,
   "id": "58bc05e3",
   "metadata": {},
   "outputs": [
    {
     "data": {
      "image/png": "[encoded data removed]",
      "text/plain": [
       "<Figure size 432x288 with 1 Axes>"
      ]
     },
     "metadata": {
      "needs_background": "light"
     },
     "output_type": "display_data"
    }
   ],
   "source": [
    "plt.hist(x=sentences_df['len_most_relevant_sentences'])\n",
    "plt.show()"
   ]
  },
  {
   "cell_type": "code",
   "execution_count": 35,
   "id": "10f0b899",
   "metadata": {},
   "outputs": [
    {
     "data": {
      "image/png": "[encoded data removed]",
      "text/plain": [
       "<Figure size 432x288 with 1 Axes>"
      ]
     },
     "metadata": {
      "needs_background": "light"
     },
     "output_type": "display_data"
    }
   ],
   "source": [
    "plt.hist(x=sentences_df[sentences_df['len_most_relevant_sentences'] < 500]['len_most_relevant_sentences'])\n",
    "plt.show()"
   ]
  },
  {
   "cell_type": "code",
   "execution_count": 32,
   "id": "5801a79f",
   "metadata": {},
   "outputs": [
    {
     "name": "stdout",
     "output_type": "stream",
     "text": [
      "0.11388318168476666\n",
      "0.26592309950102727\n",
      "0.3891987085412386\n",
      "0.49721162312885236\n",
      "0.5755796888758439\n",
      "0.7769298503081891\n"
     ]
    }
   ],
   "source": [
    "# what percent of the sentences are shorter than a certain word limit?\n",
    "# useful for choosing where to truncate the sentences!\n",
    "for word_limit in [50, 100, 150, 200, 250, 500]:\n",
    "    print(sum(sentences_df['len_most_relevant_sentences'] < word_limit) / sentences_df.shape[0])"
   ]
  },
  {
   "cell_type": "code",
   "execution_count": null,
   "id": "ab2ead0c",
   "metadata": {},
   "outputs": [],
   "source": []
  }
 ],
 "metadata": {
  "kernelspec": {
   "display_name": "Python 3 (ipykernel)",
   "language": "python",
   "name": "python3"
  },
  "language_info": {
   "codemirror_mode": {
    "name": "ipython",
    "version": 3
   },
   "file_extension": ".py",
   "mimetype": "text/x-python",
   "name": "python",
   "nbconvert_exporter": "python",
   "pygments_lexer": "ipython3",
   "version": "3.9.7"
  }
 },
 "nbformat": 4,
 "nbformat_minor": 5
}
