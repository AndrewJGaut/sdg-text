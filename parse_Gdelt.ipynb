{
  "nbformat": 4,
  "nbformat_minor": 0,
  "metadata": {
    "kernelspec": {
      "display_name": "Python 3",
      "language": "python",
      "name": "python3"
    },
    "language_info": {
      "codemirror_mode": {
        "name": "ipython",
        "version": 3
      },
      "file_extension": ".py",
      "mimetype": "text/x-python",
      "name": "python",
      "nbconvert_exporter": "python",
      "pygments_lexer": "ipython3",
      "version": "3.4.2"
    },
    "colab": {
      "name": "parse_Gdelt.ipynb",
      "provenance": [],
      "collapsed_sections": []
    }
  },
  "cells": [
    {
      "cell_type": "markdown",
      "metadata": {
        "id": "QIs9z4mXJMez"
      },
      "source": [
        "# Extracting title / articles from GDelt\n"
      ]
    },
    {
      "cell_type": "code",
      "metadata": {
        "colab": {
          "base_uri": "https://localhost:8080/"
        },
        "id": "OEL8WM_0o65H",
        "outputId": "20dd05c4-1b31-438a-a367-2c1f632532d4"
      },
      "source": [
        "!pip install mwxml\n",
        "!pip install beautifulsoup4\n"
      ],
      "execution_count": 37,
      "outputs": [
        {
          "output_type": "stream",
          "name": "stdout",
          "text": [
            "Requirement already satisfied: mwxml in /usr/local/lib/python3.7/dist-packages (0.3.3)\n",
            "Requirement already satisfied: jsonschema>=2.5.1 in /usr/local/lib/python3.7/dist-packages (from mwxml) (2.6.0)\n",
            "Requirement already satisfied: mwcli>=0.0.2 in /usr/local/lib/python3.7/dist-packages (from mwxml) (0.0.3)\n",
            "Requirement already satisfied: mwtypes>=0.3.0 in /usr/local/lib/python3.7/dist-packages (from mwxml) (0.3.2)\n",
            "Requirement already satisfied: para>=0.0.1 in /usr/local/lib/python3.7/dist-packages (from mwxml) (0.0.8)\n",
            "Requirement already satisfied: docopt in /usr/local/lib/python3.7/dist-packages (from mwcli>=0.0.2->mwxml) (0.6.2)\n",
            "Requirement already satisfied: jsonable>=0.3.0 in /usr/local/lib/python3.7/dist-packages (from mwtypes>=0.3.0->mwxml) (0.3.1)\n",
            "Requirement already satisfied: beautifulsoup4 in /usr/local/lib/python3.7/dist-packages (4.6.3)\n"
          ]
        }
      ]
    },
    {
      "cell_type": "code",
      "metadata": {
        "id": "NJ0Pm0vDgoRJ",
        "colab": {
          "base_uri": "https://localhost:8080/",
          "height": 950
        },
        "outputId": "15e7d7db-fb04-406e-fa64-1823f652a7a4"
      },
      "source": [
        "from google.colab import drive\n",
        "\n",
        "# drive.mount('/content/drive', force_remount=True)\n",
        "\n",
        "\n",
        "# FOLDERNAME ='/content/drive/MyDrive/CS329P/Project'\n",
        "\n",
        "# assert FOLDERNAME is not None, \"[!] Enter the foldername.\"\n",
        "# %cd /content/drive/MyDrive\n",
        "# %cd $FOLDERNAME"
      ],
      "execution_count": 38,
      "outputs": [
        {
          "output_type": "stream",
          "name": "stderr",
          "text": [
            "ERROR:root:Internal Python error in the inspect module.\n",
            "Below is the traceback from this internal error.\n",
            "\n"
          ]
        },
        {
          "output_type": "stream",
          "name": "stdout",
          "text": [
            "Mounted at /content/drive\n",
            "Traceback (most recent call last):\n",
            "  File \"/usr/local/lib/python3.7/dist-packages/IPython/core/interactiveshell.py\", line 2882, in run_code\n",
            "    exec(code_obj, self.user_global_ns, self.user_ns)\n",
            "  File \"<ipython-input-38-1fa6b87c29df>\", line 9, in <module>\n",
            "    get_ipython().magic('cd /content/drive/MyDrive')\n",
            "  File \"/usr/local/lib/python3.7/dist-packages/IPython/core/interactiveshell.py\", line 2160, in magic\n",
            "    return self.run_line_magic(magic_name, magic_arg_s)\n",
            "  File \"/usr/local/lib/python3.7/dist-packages/IPython/core/interactiveshell.py\", line 2081, in run_line_magic\n",
            "    result = fn(*args,**kwargs)\n",
            "  File \"<decorator-gen-84>\", line 2, in cd\n",
            "  File \"/usr/local/lib/python3.7/dist-packages/IPython/core/magic.py\", line 188, in <lambda>\n",
            "    call = lambda f, *a, **k: f(*a, **k)\n",
            "  File \"/usr/local/lib/python3.7/dist-packages/IPython/core/magics/osm.py\", line 288, in cd\n",
            "    oldcwd = py3compat.getcwd()\n",
            "OSError: [Errno 107] Transport endpoint is not connected\n",
            "\n",
            "During handling of the above exception, another exception occurred:\n",
            "\n",
            "Traceback (most recent call last):\n",
            "  File \"/usr/local/lib/python3.7/dist-packages/IPython/core/interactiveshell.py\", line 1823, in showtraceback\n",
            "    stb = value._render_traceback_()\n",
            "AttributeError: 'OSError' object has no attribute '_render_traceback_'\n",
            "\n",
            "During handling of the above exception, another exception occurred:\n",
            "\n",
            "Traceback (most recent call last):\n",
            "  File \"/usr/local/lib/python3.7/dist-packages/IPython/core/ultratb.py\", line 1132, in get_records\n",
            "    return _fixed_getinnerframes(etb, number_of_lines_of_context, tb_offset)\n",
            "  File \"/usr/local/lib/python3.7/dist-packages/IPython/core/ultratb.py\", line 313, in wrapped\n",
            "    return f(*args, **kwargs)\n",
            "  File \"/usr/local/lib/python3.7/dist-packages/IPython/core/ultratb.py\", line 358, in _fixed_getinnerframes\n",
            "    records = fix_frame_records_filenames(inspect.getinnerframes(etb, context))\n",
            "  File \"/usr/lib/python3.7/inspect.py\", line 1502, in getinnerframes\n",
            "    frameinfo = (tb.tb_frame,) + getframeinfo(tb, context)\n",
            "  File \"/usr/lib/python3.7/inspect.py\", line 1460, in getframeinfo\n",
            "    filename = getsourcefile(frame) or getfile(frame)\n",
            "  File \"/usr/lib/python3.7/inspect.py\", line 696, in getsourcefile\n",
            "    if getattr(getmodule(object, filename), '__loader__', None) is not None:\n",
            "  File \"/usr/lib/python3.7/inspect.py\", line 725, in getmodule\n",
            "    file = getabsfile(object, _filename)\n",
            "  File \"/usr/lib/python3.7/inspect.py\", line 709, in getabsfile\n",
            "    return os.path.normcase(os.path.abspath(_filename))\n",
            "  File \"/usr/lib/python3.7/posixpath.py\", line 383, in abspath\n",
            "    cwd = os.getcwd()\n",
            "OSError: [Errno 107] Transport endpoint is not connected\n"
          ]
        },
        {
          "output_type": "error",
          "ename": "OSError",
          "evalue": "ignored",
          "traceback": [
            "\u001b[0;31m---------------------------------------------------------------------------\u001b[0m"
          ]
        }
      ]
    },
    {
      "cell_type": "code",
      "metadata": {
        "collapsed": true,
        "id": "8ycQj-Tdot5b"
      },
      "source": [
        "\n",
        "import re\n",
        "import os\n",
        "from multiprocessing.pool import ThreadPool\n",
        "import subprocess\n",
        "from bs4 import BeautifulSoup\n",
        "import csv, urllib.request\n"
      ],
      "execution_count": null,
      "outputs": []
    },
    {
      "cell_type": "code",
      "metadata": {
        "id": "2x0xZLXeC67j"
      },
      "source": [
        "def parse_url(url):\n",
        "    \"\"\"\n",
        "    parse the html file from Gdelt\n",
        "\n",
        "    # For url:\n",
        "\n",
        "    # To get the data with specific date and time: change 'startdatetime' and 'enddatetime'\n",
        "    # startdatetime: 2021/09/21/12/21:15\n",
        "    # enddatetime: 2021/11/02/12/21:15\n",
        "    # keyword: poverty\n",
        "    # source country: United states, but we can select the source country with \n",
        "    # sourcecountry: __\n",
        "    # country code is defined here: http://data.gdeltproject.org/api/v2/guides/LOOKUP-COUNTRIES.TXT\n",
        "    # source language: English, but we can select the source language with \n",
        "    # sourcelang:english\n",
        "    # country code is defined here: http://data.gdeltproject.org/api/v2/guides/LOOKUP-LANGUAGES.TXT\n",
        "\n",
        "    it only contains the location data in country level(65 diff. countries) and titles, but much faster\n",
        "    \"\"\"\n",
        "\n",
        "\n",
        "    html = urlopen(url).read()\n",
        "    soup = BeautifulSoup(html, features=\"html.parser\")\n",
        "\n",
        "    # kill all script and style elements\n",
        "    for script in soup([\"script\", \"style\"]):\n",
        "        script.extract()    # rip it out\n",
        "\n",
        "    # get text\n",
        "    text = soup.get_text()\n",
        "\n",
        "    # break into lines and remove leading and trailing space on each\n",
        "    lines = (line.strip() for line in text.splitlines())\n",
        "    # break multi-headlines into a line each\n",
        "    chunks = (phrase.strip() for line in lines for phrase in line.split(\"  \"))\n",
        "    # drop blank lines\n",
        "    text = '\\n'.join(chunk for chunk in chunks if chunk)\n",
        "    return text"
      ],
      "execution_count": null,
      "outputs": []
    },
    {
      "cell_type": "code",
      "metadata": {
        "id": "40b3sAQ-GOvk"
      },
      "source": [
        "def parse_url_fromcsv(url_csv):\n",
        "    \n",
        "    # For csv: \n",
        "    # define the format as format=csv, then parse csv to get the each article link\n",
        "    # url_csv = \"https://api.gdeltproject.org/api/v2/doc/doc?query=(%22poverty%22%20OR%20sourcelang:english)&mode=artlist&startdatetime=20210921122115&enddatetime=20211021122115&format=csv\"\n",
        "\n",
        "    response = urllib.request.urlopen(url_csv)\n",
        "    lines = [l.decode('utf-8') for l in response.readlines()]\n",
        "    cr = csv.reader(lines)\n",
        "    output_urls = []\n",
        "    for row in cr:\n",
        "        output_urls.append(row[0])\n",
        "\n",
        "    return output_urls"
      ],
      "execution_count": null,
      "outputs": []
    },
    {
      "cell_type": "code",
      "metadata": {
        "id": "5GA_Up-xGHxa"
      },
      "source": [
        "url1 = \"https://api.gdeltproject.org/api/v2/doc/doc?query=(%22poverty%22%20OR%20sourcecountry:US)&mode=artlist&trans=googtrans&startdatetime=20210921122115&enddatetime=20211021122115\"\n",
        "\n",
        "url = \"https://api.gdeltproject.org/api/v2/doc/doc?query=(%22poverty%22%20OR%20sourcelang:english)&mode=artlist&trans=googtrans&startdatetime=20210921122115&enddatetime=20211021122115\"\n",
        "\n",
        "url_csv = \"https://api.gdeltproject.org/api/v2/doc/doc?query=(%22poverty%22%20OR%20sourcelang:english)&mode=artlist&startdatetime=20210921122115&enddatetime=20211021122115&format=csv\"\n"
      ],
      "execution_count": null,
      "outputs": []
    },
    {
      "cell_type": "code",
      "metadata": {
        "collapsed": true,
        "id": "qZATDs53ot5n"
      },
      "source": [
        "output_html = parse_url(url)\n",
        "\n",
        "output_url_fromcsv = parse_url_fromcsv(url_csv)\n",
        "\n",
        "print(output_html)\n",
        "\n",
        "print(output_url_fromcsv)"
      ],
      "execution_count": null,
      "outputs": []
    },
    {
      "cell_type": "markdown",
      "metadata": {
        "id": "6IX51eFqJLN-"
      },
      "source": [
        ""
      ]
    }
  ]
}